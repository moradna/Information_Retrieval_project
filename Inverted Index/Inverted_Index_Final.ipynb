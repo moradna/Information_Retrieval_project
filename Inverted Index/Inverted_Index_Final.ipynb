{
  "nbformat": 4,
  "nbformat_minor": 0,
  "metadata": {
    "colab": {
      "provenance": [],
      "toc_visible": true
    },
    "kernelspec": {
      "name": "python3",
      "display_name": "Python 3"
    },
    "language_info": {
      "name": "python"
    }
  },
  "cells": [
    {
      "cell_type": "markdown",
      "source": [
        "# **Inverted Index:**\n",
        "\n",
        "\n",
        "---\n",
        "\n",
        "In this notebook we will create 5 indexes that will be used for the rest of the project."
      ],
      "metadata": {
        "id": "2H1B5TX4K8Q0"
      }
    },
    {
      "cell_type": "code",
      "execution_count": null,
      "metadata": {
        "id": "ySpf7m9S7fmW"
      },
      "outputs": [],
      "source": [
        "!gcloud dataproc clusters list --region us-central1"
      ]
    },
    {
      "cell_type": "code",
      "source": [
        "!pip install -q google-cloud-storage==1.43.0\n",
        "!pip install -q graphframes"
      ],
      "metadata": {
        "id": "WdBWznFx71D4"
      },
      "execution_count": null,
      "outputs": []
    },
    {
      "cell_type": "code",
      "source": [
        "import pyspark\n",
        "import sys\n",
        "from collections import Counter, OrderedDict, defaultdict\n",
        "import itertools\n",
        "from itertools import islice, count, groupby\n",
        "import pandas as pd\n",
        "import os\n",
        "import re\n",
        "from operator import itemgetter\n",
        "import nltk\n",
        "from nltk.stem.porter import *\n",
        "from nltk.corpus import stopwords\n",
        "from time import time\n",
        "from pathlib import Path\n",
        "import pickle\n",
        "import pandas as pd\n",
        "from google.cloud import storage\n",
        "import math\n",
        "import numpy as np\n",
        "import builtins\n",
        "from contextlib import closing\n",
        "import hashlib\n",
        "from time import time #we use it for testing\n",
        "\n",
        "def _hash(s):\n",
        "    return hashlib.blake2b(bytes(s, encoding='utf8'), digest_size=5).hexdigest()\n",
        "\n",
        "nltk.download('stopwords')"
      ],
      "metadata": {
        "id": "0dSDmoql76jN"
      },
      "execution_count": null,
      "outputs": []
    },
    {
      "cell_type": "markdown",
      "source": [
        "### Installing, importing, and initializing PySpark"
      ],
      "metadata": {
        "id": "AoyKgCgfDF44"
      }
    },
    {
      "cell_type": "code",
      "source": [
        "from pyspark.sql import *\n",
        "from pyspark.sql.functions import *\n",
        "from pyspark import SparkContext, SparkConf, SparkFiles\n",
        "from pyspark.sql import SQLContext\n",
        "from graphframes import *"
      ],
      "metadata": {
        "id": "Z_l890wC77A1"
      },
      "execution_count": null,
      "outputs": []
    },
    {
      "cell_type": "code",
      "source": [
        "# Put your bucket name below and make sure you can access it without an error\n",
        "bucket_name = 'buc_318237997' \n",
        "full_path = f\"gs://{bucket_name}/\"\n",
        "paths=[]\n",
        "\n",
        "client = storage.Client()\n",
        "blobs = client.list_blobs(bucket_name)\n",
        "for b in blobs:\n",
        "    if \"multistre\" in b.name:\n",
        "        paths.append(full_path+b.name)"
      ],
      "metadata": {
        "id": "dEKZC2_o79Kf"
      },
      "execution_count": null,
      "outputs": []
    },
    {
      "cell_type": "code",
      "source": [
        "parquetFile = spark.read.parquet(*paths)"
      ],
      "metadata": {
        "id": "fEl9Jg2V7_xN"
      },
      "execution_count": null,
      "outputs": []
    },
    {
      "cell_type": "code",
      "source": [
        "\n",
        "%cd -q /home/dataproc\n",
        "!ls inverted_index_gcp.py"
      ],
      "metadata": {
        "id": "13lelsyp8Bml"
      },
      "execution_count": null,
      "outputs": []
    },
    {
      "cell_type": "code",
      "source": [
        "# adding our python module to the cluster\n",
        "sc.addFile(\"/home/dataproc/inverted_index_gcp.py\")\n",
        "sys.path.insert(0,SparkFiles.getRootDirectory())"
      ],
      "metadata": {
        "id": "DESVmI3M8DXC"
      },
      "execution_count": null,
      "outputs": []
    },
    {
      "cell_type": "code",
      "source": [
        "from inverted_index_gcp import *"
      ],
      "metadata": {
        "id": "ZQa_2Evl8FGD"
      },
      "execution_count": null,
      "outputs": []
    },
    {
      "cell_type": "code",
      "source": [
        "body_data = parquetFile.select(\"id\",\"text\").rdd\n",
        "title_data = parquetFile.select(\"id\",\"title\").rdd"
      ],
      "metadata": {
        "id": "Q1TwOVB98Gm9"
      },
      "execution_count": null,
      "outputs": []
    },
    {
      "cell_type": "markdown",
      "source": [
        "##Helper Functions \n",
        "\n",
        "\n",
        "---\n",
        "\n"
      ],
      "metadata": {
        "id": "uZIzs6t1DiHo"
      }
    },
    {
      "cell_type": "markdown",
      "source": [
        "### Text Operation:\n",
        "Our text operation consisted of several operations\n",
        "- We removed unnecessary signs (for example: ? ,!)\n",
        "- Tokenazie\n",
        "- all the text use lower letters.\n",
        "- we use PorterStemmer method ( The Porter stemming algorithm is a process for removing the commoner morphological and inflexional endings from words in English.) "
      ],
      "metadata": {
        "id": "-jkgxVsND1hA"
      }
    },
    {
      "cell_type": "code",
      "source": [
        "# the code from HW3\n",
        "def get_html_pattern():\n",
        "  return r'<[^<>]+>'\n",
        "\n",
        "def get_date_pattern():\n",
        "  return r'(April|Apr|June|Jun|September|Sep|November|Nov)\\s([1-9]|1[0-9]|2[0-9]|30),\\s\\d{4}|(February|Feb)\\s([1-9]|1[0-9]|2[0-9]),\\s\\d{4}|(January|Jan|March|Mar|May|July|Jul|August|Aug|October|Oct|December|Dec)\\s([1-9]|1[0-9]|2[0-9]|3[01]),\\s\\d{4}|([1-9]|1[0-9]|2[0-9])\\s(February|Feb)\\s\\d{4}|([1-9]|1[0-9]|2[0-9]|30)\\s(April|Apr|June|Jun|September|Sep|November|Nov)\\s\\d{4}|([1-9]|1[0-9]|2[0-9]|3[01])\\s(January|Jan|March|Mar|May|July|Jul|August|Aug|October|Oct|December|Dec)\\s\\d{4}'\n",
        "\n",
        "def get_time_pattern():\n",
        "  return r'((((^|(?<=\\s))([1-9]|1[0-2]))\\.([0-5][0-9](P|A)M))|((^|(?<=\\s))([1-9]|1[0-2])\\.?([0-5][0-9]((a|p)\\.m\\.)))|((^|(?<=\\s))([0-9]|2[0-3]|1[0-9]):([0-5][0-9]):([0-5][0-9]$)))'\n",
        "\n",
        "def get_percent_pattern():\n",
        "  return r'(?<![\\w\\+\\-,\\.])[\\+\\-]?\\d{1,3}((,\\d{3})*|\\d*)(\\.\\d+)?%(?!\\S?[\\w\\+\\-])'\n",
        "\n",
        "def get_number_pattern():\n",
        "  return r'((?<=(\\s|\\())|^)[+-]?(\\d{1,3})(((,\\d{3})*)|(\\.\\d+)|((,\\d{3})*\\.\\d+)|\\d+)((?=((:|\\.|,|\\)|)\\s))|\\d$|(?=\\.$))'\n",
        "\n",
        "def get_word_pattern():\n",
        "  return r\"\"\"((?<=\\A)|(?<=\\s))[a-zA-Z'-]+((['-])?[a-zA-Z'-])((['-])?([a-zA-Z'-]+))(?=[\\s,!?()])\"\"\"\n",
        "\n",
        "\n",
        "RE_TOKENIZE = re.compile(rf\"\"\"\n",
        "(\n",
        "    # parsing html tags\n",
        "     (?P<HTMLTAG>{get_html_pattern()})                                  \n",
        "    # dates\n",
        "    |(?P<DATE>{get_date_pattern()})\n",
        "    # time\n",
        "    |(?P<TIME>{get_time_pattern()})\n",
        "    # Percents\n",
        "    |(?P<PERCENT>{get_percent_pattern()})\n",
        "    # Numbers\n",
        "    |(?P<NUMBER>{get_number_pattern()})\n",
        "    # Words\n",
        "    |(?P<WORD>{get_word_pattern()})\n",
        "    # space\n",
        "    |(?P<SPACE>[\\s\\t\\n]+) \n",
        "    # everything else\n",
        "    |(?P<OTHER>.)\n",
        ")\n",
        "\"\"\", \n",
        "re.MULTILINE | re.IGNORECASE | re.VERBOSE | re.UNICODE)\n",
        "\n",
        "def filter_the_text(text):\n",
        "    filtered = [v for match in RE_TOKENIZE.finditer(text)\n",
        "                 for k, v in match.groupdict().items() \n",
        "                  if v is not None and k not in ['HTMLTAG', 'DATE', 'TIME', 'PERCENT','NUMBER', 'SPACE', 'OTHER']]\n",
        "    return filtered\n",
        "\n",
        "english_stopwords = frozenset(stopwords.words('english'))\n",
        "corpus_stopwords = [\"category\", \"references\", \"also\", \"external\", \"links\", \n",
        "                    \"may\", \"first\", \"see\", \"history\", \"people\", \"one\", \"two\", \n",
        "                    \"part\", \"thumb\", \"including\", \"second\", \"following\", \n",
        "                    \"many\", \"however\", \"would\", \"became\"]\n",
        "RE_WORD = re.compile(r\"\"\"[\\#\\@\\w](['\\-]?\\w){2,24}\"\"\", re.UNICODE)\n",
        "\n",
        "\n",
        "def tokenize(text):\n",
        "    \"\"\"\n",
        "    This function do tokenize to the text. \n",
        "\n",
        "    Parameters:\n",
        "    -----------\n",
        "    text: string    \n",
        "    \n",
        "    Returns:\n",
        "    -----------\n",
        "    list of tokens\n",
        "    \"\"\"\n",
        "    tokens = [token.group() for token in RE_WORD.finditer(text.lower())]\n",
        "    stemmer = PorterStemmer()\n",
        "    text_low = filter_the_text(' '.join(tokens))\n",
        "    list_of_tokens=[]\n",
        "    for token in text_low:\n",
        "      if token not in english_stopwords and token not in corpus_stopwords:\n",
        "        list_of_tokens.append(token)\n",
        "    list_token=[]\n",
        "    for token in list_of_tokens:\n",
        "        if token not in english_stopwords and token not in corpus_stopwords: \n",
        "          list_token.append(stemmer.stem(token))\n",
        "    return list_token\n",
        "    \n",
        "#using code from assignment 3- gcp\n",
        "#funcs to help build the inverted index\n",
        "NUM_BUCKETS = 124\n",
        "def token2bucket_id(token):\n",
        "  return int(_hash(token),16) % NUM_BUCKETS"
      ],
      "metadata": {
        "id": "D3o2ufFl8GrX"
      },
      "execution_count": null,
      "outputs": []
    },
    {
      "cell_type": "markdown",
      "source": [
        "### doc_len:"
      ],
      "metadata": {
        "id": "uEwvDZhlLtLt"
      }
    },
    {
      "cell_type": "code",
      "source": [
        "def doc_len(text, id):\n",
        "  tokens = tokenize(text)\n",
        "  return len(tokens)"
      ],
      "metadata": {
        "id": "LC_wUluNLbhV"
      },
      "execution_count": null,
      "outputs": []
    },
    {
      "cell_type": "markdown",
      "source": [
        "### word count:"
      ],
      "metadata": {
        "id": "Jj3DXHEeLzUa"
      }
    },
    {
      "cell_type": "code",
      "source": [
        "def word_count(text, id):\n",
        "  \n",
        "  ''' Count the frequency of each word in `text` (tf) after tokenize\n",
        "  -----------\n",
        "    text: str,Text of document   \n",
        "    id: Document id\n",
        "      \n",
        "  Returns:\n",
        "  --------\n",
        "    List of tuples A list of (token, (doc_id, tf)) pairs \n",
        "      for example: [(\"Anarchism\", (12, 5)), ...]\n",
        "  '''\n",
        "  tokens = tokenize(text)\n",
        "  word_count_list = []\n",
        "  words_dict= OrderedDict()\n",
        "  for word in tokens:\n",
        "    words_dict[word] = words_dict.get(word,0) + 1\n",
        "  for item in words_dict.items():\n",
        "    word_count_list.append((item[0],(id,item[1])))\n",
        "  return word_count_list"
      ],
      "metadata": {
        "id": "mRT_2xIiLitb"
      },
      "execution_count": null,
      "outputs": []
    },
    {
      "cell_type": "markdown",
      "source": [
        "### reduce_word_counts"
      ],
      "metadata": {
        "id": "hfFxJU48L2O5"
      }
    },
    {
      "cell_type": "code",
      "source": [
        "def reduce_word_counts(unsorted_pl):\n",
        "  ''' Returns a sorted posting list by wiki_id.\n",
        "\n",
        "  Parameters:\n",
        "  -----------\n",
        "    unsorted_pl: list of tuples. A list of (wiki_id, tf) tuples \n",
        "\n",
        "  Returns:\n",
        "  --------\n",
        "    list of tuples sorted by posting list .\n",
        "  '''\n",
        "  return  sorted(unsorted_pl,key=lambda y: y[0])"
      ],
      "metadata": {
        "id": "EkvRY_IyLiO8"
      },
      "execution_count": null,
      "outputs": []
    },
    {
      "cell_type": "markdown",
      "source": [
        "###calculate df:"
      ],
      "metadata": {
        "id": "ibI5UD0fL6Ow"
      }
    },
    {
      "cell_type": "code",
      "source": [
        "def calculate_df(postings):\n",
        "  ''' Takes a posting list RDD and calculate the df for each token.\n",
        "  Parameters:\n",
        "  -----------\n",
        "    postings: RDD\n",
        "      An RDD where each element is a (token, posting_list) pair.\n",
        "  Returns:\n",
        "  --------\n",
        "    RDD\n",
        "      An RDD where each element is a (token, df) pair.\n",
        "  '''\n",
        "\n",
        "  return postings.mapValues(lambda x : len(x))\n"
      ],
      "metadata": {
        "id": "qViQ7gVGLnFf"
      },
      "execution_count": null,
      "outputs": []
    },
    {
      "cell_type": "markdown",
      "source": [
        "### calculate bm25:"
      ],
      "metadata": {
        "id": "dEDL_wMJ0PnE"
      }
    },
    {
      "cell_type": "code",
      "source": [
        "def calc_bm25(doc_len, avgdl,k,b):\n",
        "  \n",
        "  return k * (1 - b + b * (doc_len/avgdl))"
      ],
      "metadata": {
        "id": "4q7w7PWL0PDX"
      },
      "execution_count": null,
      "outputs": []
    },
    {
      "cell_type": "markdown",
      "source": [
        "### calc_tf_idf"
      ],
      "metadata": {
        "id": "5d7F0d2OL_me"
      }
    },
    {
      "cell_type": "code",
      "source": [
        "def calc_tf_idf(tf, N , df, doc_len):\n",
        "  tf_idf = (tf/doc_len)* math.log(N/df)\n",
        "  return tf_idf"
      ],
      "metadata": {
        "id": "5HamFo8sLoV1"
      },
      "execution_count": null,
      "outputs": []
    },
    {
      "cell_type": "markdown",
      "source": [
        "### Partition postings and write:"
      ],
      "metadata": {
        "id": "ci_hXYiTMCXK"
      }
    },
    {
      "cell_type": "code",
      "source": [
        "def partition_postings_and_write(postings, bucket_name, folder_name ):\n",
        "  '''\n",
        "  Parameters:\n",
        "  -----------\n",
        "  postings: postings list of index\n",
        "  bucket_name: number of the bucket\n",
        "  folder_name: string of folder_name we want to write the posting list.\n",
        "\n",
        "  Returns:\n",
        "  \n",
        "  postings: the posting locations for each bucket\n",
        "  -------\n",
        "  '''\n",
        "  postings = postings.map(lambda x: (token2bucket_id(x[0]), x))\n",
        "  postings = postings.groupByKey()\n",
        "  postings = postings.map(lambda x: InvertedIndex.write_a_posting_list(x,bucket_name,folder_name))\n",
        "  return postings\n",
        "  "
      ],
      "metadata": {
        "id": "l3XAkvhZ91pU"
      },
      "execution_count": null,
      "outputs": []
    },
    {
      "cell_type": "markdown",
      "source": [
        "# **Inverted Index Title:**\n",
        "\n",
        "\n",
        "---\n",
        "\n",
        "\n"
      ],
      "metadata": {
        "id": "LpxPr1SWJLFL"
      }
    },
    {
      "cell_type": "code",
      "source": [
        "def create_inverted_index_title(data,new_index_name, bucket_name, folder):\n",
        "    #---------------- Initialize Index ---------------\n",
        "    title_index = InvertedIndex()\n",
        "\n",
        "    #------------------- Posting ---------------------\n",
        "    word_counts = data.flatMap(lambda x: word_count(x[1], x[0]))\n",
        "    postings = word_counts.groupByKey().mapValues(reduce_word_counts)\n",
        "\n",
        "    tf = postings.flatMap(lambda x: [(tup[0], (x[0],tup[1])) for tup in x[1]] ) \n",
        "    tf = tf.groupByKey().mapValues(list)\n",
        "   \n",
        "    #---------------calculate df-----------------\n",
        "    w2df = calculate_df(postings)\n",
        "    w2df_dict = w2df.collectAsMap()\n",
        "\n",
        "    #------------------- Posting Locs -------------------\n",
        "    _ = partition_postings_and_write(postings, bucket_name, folder).collect()\n",
        "    super_posting_locs = defaultdict(list)\n",
        "        #-------gcp---------\n",
        "    for blob in client.list_blobs(bucket_name, prefix=folder):\n",
        "      if not blob.name.endswith(\"pickle\"):\n",
        "        continue\n",
        "      with blob.open(\"rb\") as f:\n",
        "        posting_locs = pickle.load(f)\n",
        "        for k, v in posting_locs.items():\n",
        "          super_posting_locs[k].extend(v)\n",
        "\n",
        "    #---------------------- Write ---------------------\n",
        "    title_index.posting_locs = super_posting_locs\n",
        "    title_index.df = w2df_dict\n",
        "    title_index.N= data.count() \n",
        "    title_index.write_index('.', new_index_name)\n",
        "\n",
        "    return title_index"
      ],
      "metadata": {
        "id": "jOYH-1tTI_XQ"
      },
      "execution_count": null,
      "outputs": []
    },
    {
      "cell_type": "code",
      "source": [
        "folder = \"title1\"\n",
        "title_index = create_inverted_index_title(title_data,\"title1_index\",bucket_name, folder)\n",
        "print(\"done creating title index\")"
      ],
      "metadata": {
        "id": "xMzSQiLQJEZH"
      },
      "execution_count": null,
      "outputs": []
    },
    {
      "cell_type": "code",
      "source": [
        "# upload to gs\n",
        "index_src = \"title1_index.pkl\"\n",
        "index_dst = f'gs://{bucket_name}/title1/{index_src}'\n",
        "!gsutil cp $index_src $index_dst\n",
        "!gsutil ls -lh $index_dst"
      ],
      "metadata": {
        "id": "EuYsEhylJHAT"
      },
      "execution_count": null,
      "outputs": []
    },
    {
      "cell_type": "markdown",
      "source": [
        "# **Inverted Index Body:**\n",
        "\n",
        "\n",
        "---\n",
        "In this section we will create an index for the Wikipedia body, we will use the TF*IDF method.\n",
        "![image.png](data:image/png;base64,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)\n"
      ],
      "metadata": {
        "id": "dNz_M4XaDY8t"
      }
    },
    {
      "cell_type": "code",
      "source": [
        "def create_inverted_index_with_tf_idf_weights(data,new_index_name, bucket_name, folder):\n",
        "    #---------------- Initialize Index ---------------\n",
        "    body_index = InvertedIndex()\n",
        "\n",
        "    #------------------- Posting ---------------------\n",
        "    word_counts = data.flatMap(lambda x: word_count(x[1], x[0]))\n",
        "    postings = word_counts.groupByKey().mapValues(reduce_word_counts)\n",
        "    postings = postings.filter(lambda x: len(x[1])>50) \n",
        "\n",
        "    #----------------------- DF -----------------------\n",
        "    tf = postings.flatMap(lambda x: [(tup[0], (x[0],tup[1])) for tup in x[1]] ) \n",
        "    tf = tf.groupByKey().mapValues(list)\n",
        "\n",
        "    #-------------------calculate df-------------------\n",
        "    doc_lens = tf.map(lambda x: (x[0],builtins.sum([tup[1] for tup in x[1]])))\n",
        "    doc_lens = doc_lens.collectAsMap()\n",
        "    \n",
        "    w2df = calculate_df(postings)\n",
        "    w2df_dict = w2df.collectAsMap()\n",
        "    \n",
        "    #------------------- Posting Locs -------------------\n",
        "    _ = partition_postings_and_write(postings, bucket_name, folder).collect()\n",
        "    super_posting_locs = defaultdict(list)\n",
        "    #-------gcp---------\n",
        "    for blob in client.list_blobs(bucket_name, prefix='body100'):\n",
        "      if not blob.name.endswith(\"pickle\"):\n",
        "        continue\n",
        "      with blob.open(\"rb\") as f:\n",
        "        posting_locs = pickle.load(f)\n",
        "        for k, v in posting_locs.items():\n",
        "          super_posting_locs[k].extend(v)\n",
        "\n",
        "    body_index.posting_locs = super_posting_locs\n",
        "    body_index.df = w2df_dict\n",
        "    body_index.N= data.count() #need update inverted index\n",
        "    \n",
        "    #---------------------- Write ---------------------\n",
        "    tf_idf = tf.flatMap(lambda x: [(x[0],(tup[0], calc_tf_idf(tup[1], body_index.N , body_index.df[tup[0]], doc_lens[x[0]]))) for tup in x[1]] ) \n",
        "    tf_idf = tf_idf.groupByKey().mapValues(dict)\n",
        "    #truning tf_idf rdd to docid: (doc_len,sum-mechane of cosSim)\n",
        "    tf_idf = tf_idf.map(lambda x: (x[0],(doc_lens[x[0]],builtins.sum(math.pow(y,2) for y in x[1].values() ))))   \n",
        "    body_index.weights = tf_idf.collectAsMap() #need update inverted index\n",
        "    # write the global stats out\n",
        "    body_index.write_index('.', new_index_name)\n",
        "\n",
        "    return body_index"
      ],
      "metadata": {
        "id": "LIvAPs7UDOJl"
      },
      "execution_count": null,
      "outputs": []
    },
    {
      "cell_type": "code",
      "source": [
        "folder = \"body100\"\n",
        "body100_index = create_inverted_index_with_tf_idf_weights(body_data,\"body100_index\", bucket_name, folder)\n",
        "print(\"done creating body _index\")"
      ],
      "metadata": {
        "id": "bPyzgM4GDTzl"
      },
      "execution_count": null,
      "outputs": []
    },
    {
      "cell_type": "code",
      "source": [
        "# upload to gs\n",
        "index_src = \"body100_index.pkl\"\n",
        "index_dst = f'gs://{bucket_name}/body100/{index_src}'\n",
        "!gsutil cp $index_src $index_dst\n",
        "!gsutil ls -lh $index_dst"
      ],
      "metadata": {
        "id": "qTL_6IFLDWRw"
      },
      "execution_count": null,
      "outputs": []
    },
    {
      "cell_type": "markdown",
      "source": [
        "# **Inverted Index Anchor:**\n",
        "\n",
        "\n",
        "---\n",
        "In Anchor text we use difference text operation, we don't use Stemming  \n",
        "\n",
        "\n"
      ],
      "metadata": {
        "id": "1iaXZg4GKBjy"
      }
    },
    {
      "cell_type": "code",
      "source": [
        "doc_text_pairs = parquetFile.select(\"anchor_text\", \"id\").rdd\n",
        "anchor_text_joined = doc_text_pairs.flatMap(lambda x: x.anchor_text).reduceByKey(lambda x,y: x+\" \"+y)\n",
        "\n",
        "def tokenize_anchor(text):      \n",
        "  english_stopwords = frozenset(stopwords.words('english'))\n",
        "  corpus_stopwords = [\"category\", \"references\", \"also\", \"external\", \"links\", \n",
        "                      \"may\", \"first\", \"see\", \"history\", \"people\", \"one\", \"two\", \n",
        "                      \"part\", \"thumb\", \"including\", \"second\", \"following\", \n",
        "                      \"many\", \"however\", \"would\", \"became\", \"make\", \"good\", \"worst\"]\n",
        "\n",
        "  all_stopwords = english_stopwords.union(corpus_stopwords)\n",
        "  RE_WORD = re.compile(r\"\"\"[\\#\\@\\w](['\\-]?\\w){2,24}\"\"\", re.UNICODE)\n",
        "  tokens = [token.group() for token in RE_WORD.finditer(text.lower()) if token.group() not in all_stopwords]\n",
        "  return tokens"
      ],
      "metadata": {
        "id": "NLuJ-ceGiITv"
      },
      "execution_count": null,
      "outputs": []
    },
    {
      "cell_type": "code",
      "source": [
        "def word_count_anchor(text, id):\n",
        "  ''' Count the frequency of each word in `text` (tf) that is not included in \n",
        "  `all_stopwords` and return entries that will go into our posting lists. \n",
        "  Parameters:\n",
        "  -----------\n",
        "    text: str\n",
        "      Text of one document\n",
        "    id: int\n",
        "      Document id\n",
        "  Returns:\n",
        "  --------\n",
        "    List of tuples\n",
        "      A list of (token, (doc_id, tf)) pairs \n",
        "      for example: [(\"Anarchism\", (12, 5)), ...]\n",
        "  '''\n",
        "  #change tokenize\n",
        "  tokens = tokenize_anchor(text)\n",
        "  # YOUR CODE HERE\n",
        "  counter = Counter(tokens) # Using Counter().\n",
        "  lst_of_tuples = []\n",
        "  for token in counter:\n",
        "    lst_of_tuples.append((token, (id, counter[token])))\n",
        "  return lst_of_tuples"
      ],
      "metadata": {
        "id": "XcRfttF7izFm"
      },
      "execution_count": null,
      "outputs": []
    },
    {
      "cell_type": "code",
      "source": [
        "#---------------- Initialize Index ---------------\n",
        "inverted = InvertedIndex()\n",
        "#------------------- Posting ---------------------\n",
        "folder = \"anchor4\"\n",
        "word_counts = anchor_text_joined.flatMap(lambda x: word_count(x[1], x[0]))\n",
        "postings = word_count_anchor.groupByKey().mapValues(reduce_word_counts)\n",
        "#----------------------- DF -----------------------\n",
        "w2df = calculate_df(postings)\n",
        "w2df_dict = w2df.collectAsMap()\n",
        "\n",
        "#------------------- Posting Locs -------------------\n",
        "\n",
        "_ = partition_postings_and_write(postings, bucket_name, folder).collect()\n",
        "super_posting_locs = defaultdict(list)\n",
        "#-------gcp---------\n",
        "for blob in client.list_blobs(bucket_name, prefix=folder):\n",
        "  if not blob.name.endswith(\"pickle\"):\n",
        "    continue\n",
        "  with blob.open(\"rb\") as f:\n",
        "    posting_locs = pickle.load(f)\n",
        "    for k, v in posting_locs.items():\n",
        "      super_posting_locs[k].extend(v) "
      ],
      "metadata": {
        "id": "-bPVYuiAi3Fe"
      },
      "execution_count": null,
      "outputs": []
    },
    {
      "cell_type": "code",
      "source": [
        "#---------------------- Write ---------------------\n",
        "inverted.posting_locs = super_posting_locs\n",
        "inverted.df = w2df_dict\n",
        "inverted.write_index('.', 'anchor4_index')"
      ],
      "metadata": {
        "id": "h2PqtbU4i6T0"
      },
      "execution_count": null,
      "outputs": []
    },
    {
      "cell_type": "code",
      "source": [
        "# upload to gs\n",
        "index_src = \"anchor4_index.pkl\"\n",
        "index_dst = f'gs://{bucket_name}/anchor4/{index_src}'\n",
        "!gsutil cp $index_src $index_dst\n",
        "!gsutil ls -lh $index_dst"
      ],
      "metadata": {
        "id": "7KZurGezi8Nh"
      },
      "execution_count": null,
      "outputs": []
    },
    {
      "cell_type": "markdown",
      "source": [
        "# **Inverted Index BM25**:\n",
        "\n",
        "\n",
        "---\n",
        "\n"
      ],
      "metadata": {
        "id": "gq5fgIzrBqWI"
      }
    },
    {
      "cell_type": "markdown",
      "source": [
        "In this section we will create an index for the Wikipedia title and body, we will use the BN25 method.\n",
        "\n",
        "**BM25**  is a bag-of-words retrieval function that ranks a set of documents based on the query terms appearing in each document, regardless of their proximity within the document. "
      ],
      "metadata": {
        "id": "DOjuPa_6B8bO"
      }
    },
    {
      "cell_type": "markdown",
      "source": [
        "![image.png](data:image/png;base64,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)"
      ],
      "metadata": {
        "id": "b-biikHfAyad"
      }
    },
    {
      "cell_type": "markdown",
      "source": [
        "## Create body index BM25\n",
        "\n",
        "\n",
        "---\n",
        "\n"
      ],
      "metadata": {
        "id": "SFq9eycG93Xu"
      }
    },
    {
      "cell_type": "code",
      "source": [
        "def create_body_index_bm_25(data,new_index_name, bucket_name, folder):\n",
        "    #---------------- Initialize Index ---------------\n",
        "    index_body_bm25 = InvertedIndex()\n",
        "\n",
        "    #------------------- Posting ---------------------\n",
        "    word_counts = data.flatMap(lambda x: word_count(x[1], x[0]))\n",
        "    postings = word_counts.groupByKey().mapValues(reduce_word_counts)\n",
        "    postings = postings.filter(lambda x: len(x[1])>50) \n",
        "\n",
        "    #----------------------- DF -----------------------\n",
        "    tf = postings.flatMap(lambda x: [(tup[0], (x[0],tup[1])) for tup in x[1]] ) \n",
        "    tf = tf.groupByKey().mapValues(list)\n",
        "\n",
        "    #--------------- calculation bm25 -------------\n",
        "    doc_lens_rdd = tf.map(lambda x: (x[0],builtins.sum([tup[1] for tup in x[1]])))\n",
        "    doc_lens = doc_lens_rdd.collectAsMap()\n",
        "    w2df = calculate_df(postings)\n",
        "    w2df_dict = w2df.collectAsMap()\n",
        "    avgdl = builtins.sum(doc_lens.values())/len(doc_lens)\n",
        "\n",
        "    #------------------- Posting Locs -------------------\n",
        "    _ = partition_postings_and_write(postings, bucket_name, folder).collect()\n",
        "    super_posting_locs = defaultdict(list)\n",
        "    #-------gcp---------\n",
        "    for blob in client.list_blobs(bucket_name, prefix='body_bm25'):\n",
        "      if not blob.name.endswith(\"pickle\"):\n",
        "        continue\n",
        "      with blob.open(\"rb\") as f:\n",
        "        posting_locs = pickle.load(f)\n",
        "        for k, v in posting_locs.items():\n",
        "          super_posting_locs[k].extend(v)\n",
        "\n",
        "    #---------------------- Write ---------------------\n",
        "    index_body_bm25.posting_locs = super_posting_locs\n",
        "    index_body_bm25.df = w2df_dict\n",
        "    index_body_bm25.N= data.count()\n",
        "    bm25 = doc_lens_rdd.map(lambda x: (x[0],calc_bm25(x[1], avgdl,1.5,0.75)))\n",
        "    index_body_bm25.weights = bm25.collectAsMap()\n",
        "    index_body_bm25.write_index('.', new_index_name)\n",
        "    return index_body_bm25"
      ],
      "metadata": {
        "id": "Ce0YPbw_94Ci"
      },
      "execution_count": null,
      "outputs": []
    },
    {
      "cell_type": "code",
      "source": [
        "folder = \"body_bm25\"\n",
        "body_bm25 = create_body_index_bm_25(body_data,\"body_bm25\", bucket_name, folder)\n",
        "print(\"done creating body\")"
      ],
      "metadata": {
        "id": "yRdUjiGC8Gvi"
      },
      "execution_count": null,
      "outputs": []
    },
    {
      "cell_type": "code",
      "source": [
        "# upload to gs\n",
        "index_src = \"body_bm25.pkl\"\n",
        "index_dst = f'gs://{bucket_name}/body_bm25/{index_src}'\n",
        "!gsutil cp $index_src $index_dst\n",
        "!gsutil ls -lh $index_dst"
      ],
      "metadata": {
        "id": "t1H2LRfm8GyJ"
      },
      "execution_count": null,
      "outputs": []
    },
    {
      "cell_type": "markdown",
      "source": [
        "## Create title index BM25\n",
        "\n",
        "\n",
        "---\n"
      ],
      "metadata": {
        "id": "0vmfUOVx_tWU"
      }
    },
    {
      "cell_type": "code",
      "source": [
        "def create_title_index_with_bm_25_weights(data,new_index_name, bucket_name, folder):\n",
        "    #---------------- Initialize Index ---------------\n",
        "    index_title_bm25 = InvertedIndex()\n",
        "\n",
        "    #------------------- Posting ---------------------\n",
        "    word_counts = data.flatMap(lambda x: word_count(x[1], x[0]))\n",
        "    postings = word_counts.groupByKey().mapValues(reduce_word_counts)\n",
        "\n",
        "    #----------------------- DF -----------------------\n",
        "    tf = postings.flatMap(lambda x: [(tup[0], (x[0],tup[1])) for tup in x[1]] ) \n",
        "    tf = tf.groupByKey().mapValues(list)\n",
        "\n",
        "    #--------------- calculation bm25 -------------\n",
        "    doc_lens_rdd = tf.map(lambda x: (x[0],builtins.sum([tup[1] for tup in x[1]])))\n",
        "    doc_lens = doc_lens_rdd.collectAsMap()\n",
        "    w2df = calculate_df(postings)\n",
        "    w2df_dict = w2df.collectAsMap()\n",
        "    avgdl = builtins.sum(doc_lens.values())/len(doc_lens)\n",
        "\n",
        "    #------------------- Posting Locs -------------------\n",
        "    _ = partition_postings_and_write(postings,new_index_name).collect()\n",
        "    super_posting_locs = defaultdict(list)\n",
        "    #-------gcp---------\n",
        "    for blob in client.list_blobs(bucket_name, prefix=folder):\n",
        "      if not blob.name.endswith(\"pickle\"):\n",
        "        continue\n",
        "      with blob.open(\"rb\") as f:\n",
        "        posting_locs = pickle.load(f)\n",
        "        for k, v in posting_locs.items():\n",
        "          super_posting_locs[k].extend(v)\n",
        "\n",
        "    #---------------------- Write ---------------------\n",
        "    index_title_bm25.posting_locs = super_posting_locs\n",
        "    index_title_bm25.df = w2df_dict\n",
        "    index_title_bm25.N= data.count()\n",
        "    bm25 = doc_lens_rdd.map(lambda x: (x[0],calc_bm25(x[1], avgdl,1.5,0.75)))\n",
        "    index_title_bm25.weights = bm25.collectAsMap()\n",
        "    index_title_bm25.write_index('.', new_index_name)\n",
        "\n",
        "    return index_title_bm25"
      ],
      "metadata": {
        "id": "hRkO91et-nOF"
      },
      "execution_count": null,
      "outputs": []
    },
    {
      "cell_type": "code",
      "source": [
        "folder = \"title_bm25\"\n",
        "title_bm25 = create_title_index_with_bm_25_weights(title_data,\"index_title_bm25\", bucket_name, folder)\n",
        "print(\"done creating title\")"
      ],
      "metadata": {
        "id": "kAqZgUSs-7gL"
      },
      "execution_count": null,
      "outputs": []
    },
    {
      "cell_type": "code",
      "source": [
        "# upload to gs\n",
        "index_src = \"index_title_bm25.pkl\"\n",
        "index_dst = f'gs://{bucket_name}/title_bm25/{index_src}'\n",
        "!gsutil cp $index_src $index_dst\n",
        "!gsutil ls -lh $index_dst"
      ],
      "metadata": {
        "id": "RoGjVQsg_Ur1"
      },
      "execution_count": null,
      "outputs": []
    }
  ]
}